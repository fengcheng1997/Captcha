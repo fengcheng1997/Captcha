{
 "cells": [
  {
   "cell_type": "code",
   "execution_count": 1,
   "metadata": {},
   "outputs": [
    {
     "name": "stdout",
     "output_type": "stream",
     "text": [
      "(60, 160, 3)\n"
     ]
    },
    {
     "data": {
      "image/png": "[encoded data removed]",
      "text/plain": [
       "<Figure size 432x288 with 1 Axes>"
      ]
     },
     "metadata": {
      "needs_background": "light"
     },
     "output_type": "display_data"
    }
   ],
   "source": [
    "from captcha.image import ImageCaptcha\n",
    "from PIL import Image\n",
    "import matplotlib.pyplot as plt\n",
    "%matplotlib inline\n",
    "import numpy as np\n",
    "\n",
    "text = '1234'\n",
    "image = ImageCaptcha()\n",
    "captcha = image.generate(text)\n",
    "captcha_image = Image.open(captcha)\n",
    "#captcha_image.show()\n",
    "plt.imshow(captcha_image)\n",
    "print(np.array(captcha_image).shape)"
   ]
  },
  {
   "cell_type": "code",
   "execution_count": 2,
   "metadata": {},
   "outputs": [],
   "source": [
    "VOCAB = ['0', '1', '2', '3', '4', '5', '6', '7', '8', '9']\n",
    "CAPTCHA_LENGTH = 4\n",
    "VOCAB_LENGTH = len(VOCAB)"
   ]
  },
  {
   "cell_type": "code",
   "execution_count": 3,
   "metadata": {},
   "outputs": [],
   "source": [
    "from captcha.image import ImageCaptcha\n",
    "import numpy as np"
   ]
  },
  {
   "cell_type": "code",
   "execution_count": 4,
   "metadata": {},
   "outputs": [
    {
     "data": {
      "image/png": "[encoded data removed]",
      "text/plain": [
       "<PIL.Image.Image image mode=1 size=160x60 at 0x7F1C44B6F470>"
      ]
     },
     "execution_count": 4,
     "metadata": {},
     "output_type": "execute_result"
    }
   ],
   "source": [
    "def image_deal(image):\n",
    "##########   图片转灰度处理   ############\n",
    "    image = image.convert('L')\n",
    "#     image = image.resize((28, 28)) # 缩放\n",
    "    \n",
    "##########   图片二值化处理   ############\n",
    "    # 阈值\n",
    "    threshold = 180\n",
    "    table = []\n",
    "    for i in range(256):\n",
    "        if i < threshold:\n",
    "            table.append(0)\n",
    "        else:\n",
    "            table.append(1)\n",
    "    # 图片二值化，此处第二个参数为数字一\n",
    "    image = image.point(table, '1') #table 中含有256个值，分别对应256个像素点的映射值, 0是最黑的， 1是最白的\n",
    "    \n",
    "    return image\n",
    "\n",
    "image_deal(captcha_image)"
   ]
  },
  {
   "cell_type": "code",
   "execution_count": 5,
   "metadata": {},
   "outputs": [],
   "source": [
    "def generate_captcha(captcha_text):\n",
    "    '''\n",
    "    get captcha text\n",
    "    return np array of captcha image\n",
    "    '''\n",
    "    image = ImageCaptcha()\n",
    "    captcha = image.generate(captcha_text)\n",
    "    captcha_image = Image.open(captcha)\n",
    "    captcha_image = image_deal(captcha_image)\n",
    "    captcha_array = np.array(captcha_image)\n",
    "    captcha_array = captcha_array[np.newaxis,:,:]\n",
    "    \n",
    "    return captcha_array"
   ]
  },
  {
   "cell_type": "code",
   "execution_count": 6,
   "metadata": {},
   "outputs": [],
   "source": [
    "def text2vec(text):\n",
    "    '''\n",
    "    text to vector\n",
    "    :param text: source text\n",
    "    :return: np array\n",
    "    '''\n",
    "    if len(text) > CAPTCHA_LENGTH:\n",
    "        return False\n",
    "    \n",
    "    vector = np.zeros(CAPTCHA_LENGTH * VOCAB_LENGTH)\n",
    "    \n",
    "    for i, c in enumerate(text):\n",
    "        index = i * VOCAB_LENGTH + VOCAB.index(c)\n",
    "        vector[index] = 1\n",
    "    return vector\n",
    "\n",
    "def vec2text(vector):\n",
    "    '''\n",
    "    vector to text\n",
    "    :param text: source vector\n",
    "    :return: text'''\n",
    "    if len(vector) != 40:\n",
    "        return False\n",
    "    \n",
    "    if not isinstance(vector, np.ndarray):\n",
    "        vector = np.asarray(vector)\n",
    "    \n",
    "    text = ''\n",
    "    \n",
    "    for i in range(0,4):\n",
    "        text += VOCAB[np.argmax(vector[i*10:(i+1)*10])]\n",
    "    \n",
    "    return text"
   ]
  },
  {
   "cell_type": "code",
   "execution_count": 7,
   "metadata": {},
   "outputs": [],
   "source": [
    "import random\n",
    "from os.path import join, exists\n",
    "import pickle\n",
    "import numpy as np\n",
    "from os import makedirs\n",
    "\n",
    "DATA_LENGTH = 1000\n",
    "DATA_PATH = 'data'\n",
    "\n",
    "def get_random_text():\n",
    "    text = ''\n",
    "    for i in range(CAPTCHA_LENGTH):\n",
    "        text += random.choice(VOCAB)\n",
    "    return text"
   ]
  },
  {
   "cell_type": "code",
   "execution_count": 8,
   "metadata": {},
   "outputs": [],
   "source": [
    "def generate_data():\n",
    "    print('Generating Data...')\n",
    "    data_x, data_y = [], []\n",
    "\n",
    "    # generate data x and y\n",
    "    for i in range(DATA_LENGTH):\n",
    "        text = get_random_text()\n",
    "        # get captcha array\n",
    "        captcha_array = generate_captcha(text)\n",
    "        # get vector\n",
    "        vector = text2vec(text)\n",
    "        data_x.append(captcha_array)\n",
    "        data_y.append(vector)\n",
    "\n",
    "    # write data to pickle\n",
    "    if not exists(DATA_PATH):\n",
    "        makedirs(DATA_PATH)\n",
    "\n",
    "    x = np.asarray(data_x, np.float32)\n",
    "    y = np.asarray(data_y, np.float32)\n",
    "    with open(join(DATA_PATH, 'data.pkl'), 'wb') as f:\n",
    "        pickle.dump(x, f)\n",
    "        pickle.dump(y, f)\n",
    "        "
   ]
  },
  {
   "cell_type": "code",
   "execution_count": 9,
   "metadata": {},
   "outputs": [
    {
     "name": "stdout",
     "output_type": "stream",
     "text": [
      "Generating Data...\n"
     ]
    }
   ],
   "source": [
    "generate_data()\n",
    "with open(join(DATA_PATH,'data.pkl'), 'rb') as f:\n",
    "    data_x = pickle.load(f)\n",
    "    data_y = pickle.load(f)"
   ]
  },
  {
   "cell_type": "code",
   "execution_count": 10,
   "metadata": {},
   "outputs": [
    {
     "name": "stdout",
     "output_type": "stream",
     "text": [
      "(600, 1, 60, 160)\n"
     ]
    },
    {
     "name": "stderr",
     "output_type": "stream",
     "text": [
      "/home/lsc/anaconda3/lib/python3.7/site-packages/sklearn/cross_validation.py:41: DeprecationWarning: This module was deprecated in version 0.18 in favor of the model_selection module into which all the refactored classes and functions are moved. Also note that the interface of the new CV iterators are different from that of this module. This module will be removed in 0.20.\n",
      "  \"This module will be removed in 0.20.\", DeprecationWarning)\n"
     ]
    }
   ],
   "source": [
    "from sklearn.cross_validation import train_test_split\n",
    "train_x, test_x, train_y, test_y = train_test_split(data_x, data_y, test_size=0.4, random_state=40)\n",
    "print(train_x.shape)"
   ]
  },
  {
   "cell_type": "code",
   "execution_count": 11,
   "metadata": {},
   "outputs": [],
   "source": [
    "from torch.utils.data import DataLoader, TensorDataset, Dataset\n",
    "import torch\n",
    "\n",
    "class CaptchaDataset(Dataset):\n",
    "    def __init__(self, x, y, transform=None):\n",
    "        super(Dataset, self).__init__()\n",
    "        self.x = x\n",
    "        self.y = y\n",
    "        self.transform = transform\n",
    "        \n",
    "    def __len__(self):\n",
    "        return len(self.x)\n",
    "    \n",
    "    def __getitem__(self, n):\n",
    "#         self.x[n] = image_deal(self.x[n])\n",
    "#         self.y[n] = image_deal(self.y[n])\n",
    "#         self.x[n] = self.x[n][np.newaxis,:,:]\n",
    "        return self.x[n], self.y[n]"
   ]
  },
  {
   "cell_type": "code",
   "execution_count": 12,
   "metadata": {},
   "outputs": [
    {
     "name": "stdout",
     "output_type": "stream",
     "text": [
      "torch.Size([100, 1, 60, 160]) tensor([[[1., 1., 1.,  ..., 1., 1., 1.],\n",
      "         [1., 1., 1.,  ..., 1., 1., 1.],\n",
      "         [1., 1., 1.,  ..., 1., 1., 1.],\n",
      "         ...,\n",
      "         [1., 1., 1.,  ..., 1., 1., 1.],\n",
      "         [1., 1., 1.,  ..., 1., 1., 1.],\n",
      "         [1., 1., 1.,  ..., 1., 1., 1.]]]) torch.Size([100, 40]) tensor([[1, 0, 0,  ..., 0, 0, 1],\n",
      "        [0, 0, 0,  ..., 0, 0, 0],\n",
      "        [0, 0, 0,  ..., 0, 0, 0],\n",
      "        ...,\n",
      "        [0, 0, 0,  ..., 0, 1, 0],\n",
      "        [0, 0, 0,  ..., 0, 0, 0],\n",
      "        [0, 0, 0,  ..., 0, 1, 0]])\n"
     ]
    }
   ],
   "source": [
    "from torchvision import transforms\n",
    "\n",
    "captcha_train_dataset = CaptchaDataset(train_x, train_y, transform=transforms.ToTensor())\n",
    "captcha_test_dataset = CaptchaDataset(test_x, test_y, transform=transforms.ToTensor())\n",
    "train_data = DataLoader(captcha_train_dataset, batch_size=100, shuffle=True)\n",
    "test_data = DataLoader(captcha_test_dataset, batch_size=100, shuffle=False)\n",
    "for i, j in train_data:\n",
    "\tbreak\n",
    "\n",
    "print(i.shape, i[1], j.shape, j.long())"
   ]
  },
  {
   "cell_type": "code",
   "execution_count": 21,
   "metadata": {},
   "outputs": [
    {
     "name": "stdout",
     "output_type": "stream",
     "text": [
      "Epoch: 0001 loss= 0.698945\n",
      "Epoch: 0006 loss= 0.695238\n",
      "Epoch: 0011 loss= 0.693755\n",
      "Epoch: 0016 loss= 0.693256\n",
      "Epoch: 0021 loss= 0.693178\n",
      "Epoch: 0026 loss= 0.693159\n",
      "Epoch: 0031 loss= 0.693151\n",
      "Epoch: 0036 loss= 0.693146\n",
      "Epoch: 0041 loss= 0.693143\n",
      "Epoch: 0046 loss= 0.693141\n",
      "Epoch: 0051 loss= 0.693140\n",
      "Epoch: 0056 loss= 0.693139\n",
      "Epoch: 0061 loss= 0.693138\n",
      "Epoch: 0066 loss= 0.693137\n",
      "Epoch: 0071 loss= 0.693137\n",
      "Epoch: 0076 loss= 0.693136\n",
      "Epoch: 0081 loss= 0.693136\n",
      "Epoch: 0086 loss= 0.693136\n",
      "Epoch: 0091 loss= 0.693135\n",
      "Epoch: 0096 loss= 0.693135\n"
     ]
    }
   ],
   "source": [
    "###################   leNet   ################\n",
    "import torch.nn.functional as F\n",
    "from torch import nn\n",
    "from torch.autograd import Variable\n",
    "\n",
    "class LeNet(nn.Module):\n",
    "    def __init__(self):\n",
    "        # nn.Module的子类函数必须在构造函数中执行父类的构造函数\n",
    "        super(LeNet, self).__init__()   # 等价与nn.Module.__init__()\n",
    "\n",
    "        # nn.Conv2d返回的是一个Conv2d class的一个对象，该类中包含forward函数的实现\n",
    "        # 当调用self.conv1(input)的时候，就会调用该类的forward函数\n",
    "        self.conv1 = nn.Conv2d(1, 6, (5, 5))   # output (N, C_{out}, H_{out}, W_{out})`, 图片的维度减少4*4\n",
    "        self.conv2 = nn.Conv2d(6, 16, (5, 5))\n",
    "        # self.conv3 = nn.Conv2d(16, 16, (5, 5))\n",
    "        self.fc1 = nn.Linear(7104, 2000)\n",
    "        self.fc2 = nn.Linear(2000, 840)\n",
    "        self.fc3 = nn.Linear(840, 40)\n",
    "\n",
    "    def forward(self, x):\n",
    "        x = F.max_pool2d(F.relu(self.conv1(x)), (2, 2)) # \n",
    "        x = F.max_pool2d(F.relu(self.conv2(x)), (2, 2)) # \n",
    "        x = x.view(x.size()[0], -1) #16*56*156=139776\n",
    "        x = F.relu(self.fc1(x))\n",
    "        x = F.relu(self.fc2(x))\n",
    "        x = F.relu(self.fc3(x))\n",
    "\n",
    "        return x\n",
    "\n",
    "\n",
    "\n",
    "net = LeNet()\n",
    "criterion = nn.MultiLabelSoftMarginLoss()\n",
    "optimizer = torch.optim.SGD(net.parameters(), lr=0.01)\n",
    "\n",
    "for e in range(100):\n",
    "\tfor data, label in train_data:\n",
    "\t\tdata = Variable(data)\n",
    "\t\tlabel = Variable(label)\n",
    "\t\t#frontward\n",
    "\t\tout = net(data)\n",
    "\t\tloss = criterion(out, label)\n",
    "\t\t#backward\n",
    "\t\toptimizer.zero_grad()\n",
    "\t\tloss.backward()\n",
    "\t\toptimizer.step()\n",
    "\n",
    "\n",
    "\t########eval#########\n",
    "\tnum_correct = 0\n",
    "\tfor data, label in test_data:\n",
    "\t\tdata = Variable(data)\n",
    "\t\tlabel = Variable(label)\n",
    "\t\t#frontward\n",
    "\t\tout = net(data)\n",
    "\t\tloss = criterion(out, label)\n",
    "\n",
    "\t\t_, pred = out.max(1)\n",
    "# \t\tnum_correct += float((pred == label).sum().data)\n",
    "\t\t\n",
    "\tif e % 5 == 0:\n",
    "\t\tprint(\"Epoch:\", '%04d' % (e+1), \"loss=\", \"%04f\" % loss)"
   ]
  },
  {
   "cell_type": "code",
   "execution_count": 22,
   "metadata": {},
   "outputs": [
    {
     "name": "stdout",
     "output_type": "stream",
     "text": [
      "(60, 160, 3)\n"
     ]
    },
    {
     "data": {
      "image/png": "[encoded data removed]",
      "text/plain": [
       "<Figure size 432x288 with 1 Axes>"
      ]
     },
     "metadata": {
      "needs_background": "light"
     },
     "output_type": "display_data"
    }
   ],
   "source": [
    "text = '5827'\n",
    "image = ImageCaptcha()\n",
    "captcha = image.generate(text)\n",
    "captcha_image = Image.open(captcha)\n",
    "#captcha_image.show()\n",
    "plt.imshow(captcha_image)\n",
    "print(np.array(captcha_image).shape)"
   ]
  },
  {
   "cell_type": "code",
   "execution_count": 24,
   "metadata": {},
   "outputs": [],
   "source": [
    "def generate_test_captcha(captcha_text):\n",
    "    '''\n",
    "    get captcha text\n",
    "    return np array of captcha image\n",
    "    '''\n",
    "    image = ImageCaptcha()\n",
    "    captcha = image.generate(captcha_text)\n",
    "    captcha_image = Image.open(captcha)\n",
    "    captcha_image = image_deal(captcha_image)\n",
    "    captcha_array = np.array(captcha_image)\n",
    "    captcha_array = captcha_array[np.newaxis,:,:]\n",
    "    \n",
    "    return captcha_image, captcha_array"
   ]
  },
  {
   "cell_type": "code",
   "execution_count": 54,
   "metadata": {},
   "outputs": [
    {
     "data": {
      "text/plain": [
       "<matplotlib.image.AxesImage at 0x7f1bf7f87eb8>"
      ]
     },
     "execution_count": 54,
     "metadata": {},
     "output_type": "execute_result"
    },
    {
     "data": {
      "image/png": "[encoded data removed]",
      "text/plain": [
       "<Figure size 432x288 with 1 Axes>"
      ]
     },
     "metadata": {
      "needs_background": "light"
     },
     "output_type": "display_data"
    }
   ],
   "source": [
    "test_text = get_random_text()\n",
    "test_image, test_array = generate_test_captcha(test_text)\n",
    "plt.figure()\n",
    "plt.imshow(test_image)"
   ]
  },
  {
   "cell_type": "code",
   "execution_count": 56,
   "metadata": {},
   "outputs": [
    {
     "name": "stdout",
     "output_type": "stream",
     "text": [
      "<class 'torch.Tensor'> <class 'numpy.ndarray'>\n"
     ]
    },
    {
     "data": {
      "text/plain": [
       "(array([0., 0., 0., 0., 0., 0., 0., 0., 0., 0., 0., 0., 0., 0., 0., 0., 0.,\n",
       "        0., 0., 0., 0., 0., 0., 0., 0., 0., 0., 0., 0., 0., 0., 0., 0., 0.,\n",
       "        0., 0., 0., 0., 0., 0.], dtype=float32), '0000')"
      ]
     },
     "execution_count": 56,
     "metadata": {},
     "output_type": "execute_result"
    }
   ],
   "source": [
    "test_array = test_array.astype(float)\n",
    "test_variable = Variable(torch.Tensor(test_array))\n",
    "test_variable.unsqueeze_(0)\n",
    "out = net(test_variable)\n",
    "print(type(out), type(out.data.numpy()))\n",
    "out = out.squeeze_(0).data.numpy()  \n",
    "test_net = vec2text(out)\n",
    "out, test_net"
   ]
  },
  {
   "cell_type": "code",
   "execution_count": null,
   "metadata": {},
   "outputs": [],
   "source": []
  }
 ],
 "metadata": {
  "kernelspec": {
   "display_name": "Python 3",
   "language": "python",
   "name": "python3"
  },
  "language_info": {
   "codemirror_mode": {
    "name": "ipython",
    "version": 3
   },
   "file_extension": ".py",
   "mimetype": "text/x-python",
   "name": "python",
   "nbconvert_exporter": "python",
   "pygments_lexer": "ipython3",
   "version": "3.7.0"
  }
 },
 "nbformat": 4,
 "nbformat_minor": 2
}
