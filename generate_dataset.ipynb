{
 "cells": [
  {
   "cell_type": "code",
   "execution_count": 1,
   "metadata": {},
   "outputs": [
    {
     "name": "stdout",
     "output_type": "stream",
     "text": [
      "(60, 160, 3)\n"
     ]
    },
    {
     "data": {
      "image/png": "[encoded data removed]",
      "text/plain": [
       "<Figure size 432x288 with 1 Axes>"
      ]
     },
     "metadata": {
      "needs_background": "light"
     },
     "output_type": "display_data"
    }
   ],
   "source": [
    "#############   generate data   ################\n",
    "from captcha.image import ImageCaptcha\n",
    "from PIL import Image\n",
    "import matplotlib.pyplot as plt\n",
    "%matplotlib inline\n",
    "import numpy as np\n",
    "\n",
    "text = '1234'\n",
    "image = ImageCaptcha()\n",
    "captcha = image.generate(text)\n",
    "captcha_image = Image.open(captcha)\n",
    "#captcha_image.show()\n",
    "plt.imshow(captcha_image)\n",
    "print(np.array(captcha_image).shape)"
   ]
  },
  {
   "cell_type": "code",
   "execution_count": 4,
   "metadata": {},
   "outputs": [],
   "source": [
    "VOCAB = ['0', '1', '2', '3', '4', '5', '6', '7', '8', '9']\n",
    "CAPTCHA_LENGTH = 4\n",
    "VOCAB_LENGTH = len(VOCAB)"
   ]
  },
  {
   "cell_type": "code",
   "execution_count": 5,
   "metadata": {},
   "outputs": [],
   "source": [
    "from captcha.image import ImageCaptcha\n",
    "import numpy as np"
   ]
  },
  {
   "cell_type": "code",
   "execution_count": 6,
   "metadata": {},
   "outputs": [],
   "source": [
    "def generate_captcha(captcha_text):\n",
    "    '''\n",
    "    get captcha text\n",
    "    return np array of captcha image\n",
    "    '''\n",
    "    image = ImageCaptcha()\n",
    "    captcha = image.generate(captcha_text)\n",
    "    captcha_image = Image.open(captcha)\n",
    "#     captcha_image = image_deal(captcha_image)\n",
    "    a = np.array(captcha_image)\n",
    "    \n",
    "    a_0 = list(a[:,:,0])\n",
    "    a_1 = list(a[:,:,1])\n",
    "    a_2 = list(a[:,:,2])\n",
    "    a_ = []\n",
    "    a_.append(a_0)\n",
    "    a_.append(a_1)\n",
    "    a_.append(a_2)\n",
    "    a_ = np.array(a_)\n",
    "    return a_"
   ]
  },
  {
   "cell_type": "code",
   "execution_count": 7,
   "metadata": {},
   "outputs": [
    {
     "name": "stdout",
     "output_type": "stream",
     "text": [
      "0234\n"
     ]
    }
   ],
   "source": [
    "def text2vec(text):\n",
    "    '''\n",
    "    text to vector\n",
    "    :param text: source text\n",
    "    :return: np array\n",
    "    '''\n",
    "    if len(text) > CAPTCHA_LENGTH:\n",
    "        return False\n",
    "    \n",
    "    vector = np.zeros(CAPTCHA_LENGTH * VOCAB_LENGTH)\n",
    "    \n",
    "    for i, c in enumerate(text):\n",
    "        index = i * VOCAB_LENGTH + VOCAB.index(c)\n",
    "        vector[index] = 1\n",
    "    return vector\n",
    "\n",
    "def vec2text(vector):\n",
    "    '''\n",
    "    vector to text\n",
    "    :param text: source vector\n",
    "    :return: text'''\n",
    "    if len(vector) != 40:\n",
    "        return False\n",
    "    \n",
    "    if not isinstance(vector, np.ndarray):\n",
    "        vector = np.asarray(vector)\n",
    "    \n",
    "    text = ''\n",
    "    \n",
    "    for i in range(0,4):\n",
    "        text += VOCAB[np.argmax(vector[i*10:(i+1)*10])]\n",
    "    \n",
    "    return text\n",
    "\n",
    "t = '0234'\n",
    "print(vec2text(text2vec(t)))"
   ]
  },
  {
   "cell_type": "code",
   "execution_count": 8,
   "metadata": {},
   "outputs": [],
   "source": [
    "import random\n",
    "from os.path import join, exists\n",
    "import pickle\n",
    "import numpy as np\n",
    "from os import makedirs\n",
    "\n",
    "DATA_LENGTH = 1000\n",
    "DATA_PATH = 'data'\n",
    "\n",
    "def get_random_text():\n",
    "    text = ''\n",
    "    for i in range(CAPTCHA_LENGTH):\n",
    "        text += random.choice(VOCAB)\n",
    "    return text"
   ]
  },
  {
   "cell_type": "code",
   "execution_count": 9,
   "metadata": {},
   "outputs": [],
   "source": [
    "def generate_data():\n",
    "    print('Generating Data...')\n",
    "    data_x, data_y = [], []\n",
    "\n",
    "    # generate data x and y\n",
    "    for i in range(DATA_LENGTH):\n",
    "        text = get_random_text()\n",
    "        # get captcha array\n",
    "        captcha_array = generate_captcha(text)\n",
    "        # get vector\n",
    "        vector = text2vec(text)\n",
    "        data_x.append(captcha_array)\n",
    "        data_y.append(vector)\n",
    "\n",
    "    # write data to pickle\n",
    "    if not exists(DATA_PATH):\n",
    "        makedirs(DATA_PATH)\n",
    "\n",
    "    x = np.asarray(data_x, np.float32)\n",
    "    y = np.asarray(data_y, np.float32)\n",
    "    with open(join(DATA_PATH, 'data.pkl'), 'wb') as f:\n",
    "        pickle.dump(x, f)\n",
    "        pickle.dump(y, f)\n",
    "        "
   ]
  },
  {
   "cell_type": "code",
   "execution_count": 10,
   "metadata": {},
   "outputs": [
    {
     "name": "stdout",
     "output_type": "stream",
     "text": [
      "Generating Data...\n"
     ]
    }
   ],
   "source": [
    "generate_data()\n",
    "with open(join(DATA_PATH,'data.pkl'), 'rb') as f:\n",
    "    data_x = pickle.load(f)\n",
    "    data_y = pickle.load(f)"
   ]
  },
  {
   "cell_type": "code",
   "execution_count": 11,
   "metadata": {},
   "outputs": [
    {
     "name": "stdout",
     "output_type": "stream",
     "text": [
      "(600, 3, 60, 160)\n"
     ]
    },
    {
     "name": "stderr",
     "output_type": "stream",
     "text": [
      "/home/lsc/anaconda3/lib/python3.7/site-packages/sklearn/cross_validation.py:41: DeprecationWarning: This module was deprecated in version 0.18 in favor of the model_selection module into which all the refactored classes and functions are moved. Also note that the interface of the new CV iterators are different from that of this module. This module will be removed in 0.20.\n",
      "  \"This module will be removed in 0.20.\", DeprecationWarning)\n"
     ]
    }
   ],
   "source": [
    "from sklearn.cross_validation import train_test_split\n",
    "train_x, test_x, train_y, test_y = train_test_split(data_x, data_y, test_size=0.4, random_state=40)\n",
    "print(train_x.shape)"
   ]
  },
  {
   "cell_type": "code",
   "execution_count": 12,
   "metadata": {},
   "outputs": [],
   "source": [
    "from torch.utils.data import DataLoader, TensorDataset, Dataset\n",
    "import torch\n",
    "\n",
    "class CaptchaDataset(Dataset):\n",
    "    def __init__(self, x, y, transform=None):\n",
    "        super(Dataset, self).__init__()\n",
    "        self.x = x\n",
    "        self.y = y\n",
    "        self.transform = transform\n",
    "        \n",
    "    def __len__(self):\n",
    "        return len(self.x)\n",
    "    \n",
    "    def __getitem__(self, n):\n",
    "#         self.x[n] = image_deal(self.x[n])\n",
    "#         self.y[n] = image_deal(self.y[n])\n",
    "#         self.x[n] = self.x[n][np.newaxis,:,:]\n",
    "        return self.x[n], self.y[n]"
   ]
  },
  {
   "cell_type": "code",
   "execution_count": null,
   "metadata": {},
   "outputs": [],
   "source": [
    "from torchvision import transforms\n",
    "\n",
    "captcha_train_dataset = CaptchaDataset(train_x, train_y, transform=transforms.ToTensor())\n",
    "captcha_test_dataset = CaptchaDataset(test_x, test_y, transform=transforms.ToTensor())\n",
    "train_data = DataLoader(captcha_train_dataset, batch_size=100, shuffle=True)\n",
    "test_data = DataLoader(captcha_test_dataset, batch_size=100, shuffle=False)"
   ]
  }
 ],
 "metadata": {
  "kernelspec": {
   "display_name": "Python 3",
   "language": "python",
   "name": "python3"
  },
  "language_info": {
   "codemirror_mode": {
    "name": "ipython",
    "version": 3
   },
   "file_extension": ".py",
   "mimetype": "text/x-python",
   "name": "python",
   "nbconvert_exporter": "python",
   "pygments_lexer": "ipython3",
   "version": "3.7.0"
  }
 },
 "nbformat": 4,
 "nbformat_minor": 2
}
