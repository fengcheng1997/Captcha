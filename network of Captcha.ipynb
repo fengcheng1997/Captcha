{
 "cells": [
  {
   "cell_type": "code",
   "execution_count": 14,
   "metadata": {},
   "outputs": [
    {
     "ename": "ModuleNotFoundError",
     "evalue": "No module named 'captcha.image'; 'captcha' is not a package",
     "output_type": "error",
     "traceback": [
      "\u001b[0;31m---------------------------------------------------------------------------\u001b[0m",
      "\u001b[0;31mModuleNotFoundError\u001b[0m                       Traceback (most recent call last)",
      "\u001b[0;32m<ipython-input-14-7cbce46ccb76>\u001b[0m in \u001b[0;36m<module>\u001b[0;34m()\u001b[0m\n\u001b[0;32m----> 1\u001b[0;31m \u001b[0;32mfrom\u001b[0m \u001b[0mcaptcha\u001b[0m\u001b[0;34m.\u001b[0m\u001b[0mimage\u001b[0m \u001b[0;32mimport\u001b[0m \u001b[0mImageCaptcha\u001b[0m\u001b[0;34m\u001b[0m\u001b[0m\n\u001b[0m\u001b[1;32m      2\u001b[0m \u001b[0;32mfrom\u001b[0m \u001b[0mPIL\u001b[0m \u001b[0;32mimport\u001b[0m \u001b[0mImage\u001b[0m\u001b[0;34m\u001b[0m\u001b[0m\n\u001b[1;32m      3\u001b[0m \u001b[0;32mimport\u001b[0m \u001b[0mmatplotlib\u001b[0m\u001b[0;34m.\u001b[0m\u001b[0mpyplot\u001b[0m \u001b[0;32mas\u001b[0m \u001b[0mplt\u001b[0m\u001b[0;34m\u001b[0m\u001b[0m\n\u001b[1;32m      4\u001b[0m \u001b[0mget_ipython\u001b[0m\u001b[0;34m(\u001b[0m\u001b[0;34m)\u001b[0m\u001b[0;34m.\u001b[0m\u001b[0mrun_line_magic\u001b[0m\u001b[0;34m(\u001b[0m\u001b[0;34m'matplotlib'\u001b[0m\u001b[0;34m,\u001b[0m \u001b[0;34m'inline'\u001b[0m\u001b[0;34m)\u001b[0m\u001b[0;34m\u001b[0m\u001b[0m\n\u001b[1;32m      5\u001b[0m \u001b[0;34m\u001b[0m\u001b[0m\n",
      "\u001b[0;31mModuleNotFoundError\u001b[0m: No module named 'captcha.image'; 'captcha' is not a package"
     ]
    }
   ],
   "source": [
    "from captcha.image import ImageCaptcha\n",
    "from PIL import Image\n",
    "import matplotlib.pyplot as plt\n",
    "%matplotlib inline\n",
    " \n",
    "text = '1234'\n",
    "image = ImageCaptcha()\n",
    "captcha = image.generate(text)\n",
    "captcha_image = Image.open(captcha)\n",
    "#captcha_image.show()\n",
    "plt.imshow(captcha_image)"
   ]
  },
  {
   "cell_type": "code",
   "execution_count": null,
   "metadata": {},
   "outputs": [],
   "source": [
    "VOCAB = ['0', '1', '2', '3', '4', '5', '6', '7', '8', '9']\n",
    "CAPTCHA_LENGTH = 4\n",
    "VOCAB_LENGTH = len(VOCAB)"
   ]
  },
  {
   "cell_type": "code",
   "execution_count": 6,
   "metadata": {},
   "outputs": [
    {
     "ename": "ModuleNotFoundError",
     "evalue": "No module named 'captcha.image'; 'captcha' is not a package",
     "output_type": "error",
     "traceback": [
      "\u001b[0;31m---------------------------------------------------------------------------\u001b[0m",
      "\u001b[0;31mModuleNotFoundError\u001b[0m                       Traceback (most recent call last)",
      "\u001b[0;32m<ipython-input-6-a7a7e5578d20>\u001b[0m in \u001b[0;36m<module>\u001b[0;34m()\u001b[0m\n\u001b[0;32m----> 1\u001b[0;31m \u001b[0;32mfrom\u001b[0m \u001b[0mcaptcha\u001b[0m\u001b[0;34m.\u001b[0m\u001b[0mimage\u001b[0m \u001b[0;32mimport\u001b[0m \u001b[0mImageCaptcha\u001b[0m\u001b[0;34m\u001b[0m\u001b[0m\n\u001b[0m\u001b[1;32m      2\u001b[0m \u001b[0;32mimport\u001b[0m \u001b[0mnumpy\u001b[0m \u001b[0;32mas\u001b[0m \u001b[0mnp\u001b[0m\u001b[0;34m\u001b[0m\u001b[0m\n",
      "\u001b[0;31mModuleNotFoundError\u001b[0m: No module named 'captcha.image'; 'captcha' is not a package"
     ]
    }
   ],
   "source": [
    "from captcha.image import ImageCaptcha\n",
    "import numpy as np"
   ]
  },
  {
   "cell_type": "code",
   "execution_count": null,
   "metadata": {},
   "outputs": [],
   "source": [
    "def generate_captcha(captcha_text):\n",
    "    '''\n",
    "    get captcha text\n",
    "    return np array of captcha image\n",
    "    '''\n",
    "    image = ImageCaptcha()\n",
    "    captcha = image.generate(captcha_text)\n",
    "    captcha_image = Image.open(captcha)\n",
    "    captcha_array = np.array(captcha_image)\n",
    "    return captcha_array"
   ]
  },
  {
   "cell_type": "code",
   "execution_count": null,
   "metadata": {},
   "outputs": [],
   "source": [
    "captcha = '1234'\n",
    "generate_captcha(captcha)"
   ]
  },
  {
   "cell_type": "code",
   "execution_count": null,
   "metadata": {},
   "outputs": [],
   "source": [
    "def text2vec(text):\n",
    "    '''\n",
    "    text to vector\n",
    "    :param text: source text\n",
    "    :return: np array\n",
    "    '''\n",
    "    if len(text) > CAPTCHA_LENGTH:\n",
    "        return False\n",
    "    \n",
    "    vector = np.zeros(CAPTCHA_LENGTH * VOCAB_LENGTH)\n",
    "    \n",
    "    for i, c in enumerate(text):\n",
    "        index = i * VOCAB_LENGTH + VOCAB.index(c)\n",
    "        vector[index] = 1\n",
    "    return vector\n",
    "\n",
    "def vec2text(vector):\n",
    "    '''\n",
    "    vector to text\n",
    "    :param text: source vector\n",
    "    :return: text'''\n",
    "    if len(vector) != 40:\n",
    "        return False\n",
    "    \n",
    "    if not isinstance(vector, np.ndarray):\n",
    "        vector = np.asarray(vector)\n",
    "    \n",
    "    text = ''\n",
    "    \n",
    "    for i in range(0,4):\n",
    "        text += VOCAB[np.argmax(vector[i*10:(i+1)*10])]\n",
    "    \n",
    "    return text\n",
    "    "
   ]
  },
  {
   "cell_type": "code",
   "execution_count": null,
   "metadata": {},
   "outputs": [],
   "source": [
    "text = '2333'\n",
    "vec_ = text2vec(text)\n",
    "text_ = vec2text(vec_)\n",
    "vec_, text_"
   ]
  },
  {
   "cell_type": "code",
   "execution_count": null,
   "metadata": {},
   "outputs": [],
   "source": [
    "################## pickle功能介绍 ######################\n",
    "import pickle\n",
    "data = ['1234', '2333']\n",
    "p_str = pickle.dumps(data)\n",
    "print(p_str)"
   ]
  },
  {
   "cell_type": "code",
   "execution_count": null,
   "metadata": {},
   "outputs": [],
   "source": [
    "mes = pickle.loads(p_str)\n",
    "print(mes)"
   ]
  },
  {
   "cell_type": "code",
   "execution_count": null,
   "metadata": {},
   "outputs": [],
   "source": [
    "# print(type(data))\n",
    "with open('.\\tmp.pk', 'wb+') as f:\n",
    "    pickle.dump(data, f)"
   ]
  },
  {
   "cell_type": "code",
   "execution_count": null,
   "metadata": {},
   "outputs": [],
   "source": [
    "with open('.\\tmp.pk', 'rb+') as f:\n",
    "    data = pickle.load(f)\n",
    "data"
   ]
  },
  {
   "cell_type": "code",
   "execution_count": null,
   "metadata": {},
   "outputs": [],
   "source": [
    "#########################################################"
   ]
  },
  {
   "cell_type": "code",
   "execution_count": null,
   "metadata": {},
   "outputs": [],
   "source": [
    "import random\n",
    "from os.path import join, exists\n",
    "import pickle\n",
    "import numpy as np\n",
    "from os import makedirs\n",
    "\n",
    "DATA_LENGTH = 1000\n",
    "DATA_PATH = 'data'\n",
    "\n",
    "def get_random_text():\n",
    "    text = ''\n",
    "    for i in range(CAPTCHA_LENGTH):\n",
    "        text += random.choice(VOCAB)\n",
    "    return text\n",
    "\n"
   ]
  },
  {
   "cell_type": "code",
   "execution_count": null,
   "metadata": {},
   "outputs": [],
   "source": [
    "print(get_random_text())"
   ]
  },
  {
   "cell_type": "code",
   "execution_count": null,
   "metadata": {},
   "outputs": [],
   "source": [
    "def generate_data():\n",
    "    print('Generating Data...')\n",
    "    data_x, data_y = [], []\n",
    "\n",
    "    # generate data x and y\n",
    "    for i in range(DATA_LENGTH):\n",
    "        text = get_random_text()\n",
    "        # get captcha array\n",
    "        captcha_array = generate_captcha(text)\n",
    "        # get vector\n",
    "        vector = text2vec(text)\n",
    "        data_x.append(captcha_array)\n",
    "        data_y.append(vector)\n",
    "\n",
    "    # write data to pickle\n",
    "    if not exists(DATA_PATH):\n",
    "        makedirs(DATA_PATH)\n",
    "\n",
    "    x = np.asarray(data_x, np.float32)\n",
    "    y = np.asarray(data_y, np.float32)\n",
    "    with open(join(DATA_PATH, 'data.pkl'), 'wb') as f:\n",
    "        pickle.dump(x, f)\n",
    "        pickle.dump(y, f)\n",
    "        \n"
   ]
  },
  {
   "cell_type": "code",
   "execution_count": null,
   "metadata": {},
   "outputs": [],
   "source": [
    "generate_data()\n",
    "with open(join(DATA_PATH,'data.pkl'), 'rb') as f:\n",
    "    data_x = pickle.load(f)\n",
    "    data_y = pickle.load(f)\n",
    "#     return standardize(data_x), data_y\n"
   ]
  },
  {
   "cell_type": "code",
   "execution_count": null,
   "metadata": {},
   "outputs": [],
   "source": [
    "print(data_x.shape, data_y.shape, type(data_x))"
   ]
  },
  {
   "cell_type": "code",
   "execution_count": null,
   "metadata": {},
   "outputs": [],
   "source": [
    "from sklearn.cross_validation import train_test_split\n",
    "train_x, test_x, train_y, test_y = train_test_split(data_x, data_y, test_size=0.4, random_state=40)"
   ]
  },
  {
   "cell_type": "code",
   "execution_count": null,
   "metadata": {},
   "outputs": [],
   "source": [
    "print(train_x.shape, test_x.shape, train_y.shape, test_y.shape, type(train_x))"
   ]
  },
  {
   "cell_type": "code",
   "execution_count": null,
   "metadata": {},
   "outputs": [],
   "source": [
    "train_x[1]"
   ]
  },
  {
   "cell_type": "code",
   "execution_count": null,
   "metadata": {},
   "outputs": [],
   "source": [
    "from torch.utils.data import DataLoader, TensorDataset, Dataset\n",
    "import torch"
   ]
  },
  {
   "cell_type": "code",
   "execution_count": null,
   "metadata": {},
   "outputs": [],
   "source": [
    "def image_grayscale_deal(image):\n",
    "    \"\"\"\n",
    "    图片转灰度处理\n",
    "    :param image:图片文件\n",
    "    :return: 转灰度处理后的图片文件\n",
    "    \"\"\"\n",
    "    image = image.convert('L')\n",
    "\t#取消注释后可以看到处理后的图片效果\n",
    "    plt.subplot(1,3,2)\n",
    "    plt.imshow(image)\n",
    "    # image.show()\n",
    "    return image\n",
    "\n",
    "def image_thresholding_method(image):\n",
    "    \"\"\"\n",
    "    图片二值化处理\n",
    "    :param image:转灰度处理后的图片文件\n",
    "    :return: 二值化处理后的图片文件\n",
    "    \"\"\"\n",
    "    # 阈值\n",
    "    threshold = 160\n",
    "    table = []\n",
    "    for i in range(256):\n",
    "        if i < threshold:\n",
    "            table.append(0)\n",
    "        else:\n",
    "            table.append(1)\n",
    "    # 图片二值化，此处第二个参数为数字一\n",
    "    image = image.point(table, '1')\n",
    "\t#取消注释后可以看到处理后的图片效果\n",
    "    plt.subplot(1,3,3)\n",
    "    plt.imshow(image)\n",
    "    #image.show()\n",
    "    return image\n",
    "\n",
    "\n",
    "def captcha_tesserocr_crack(image):\n",
    "    \"\"\"\n",
    "    图像识别\n",
    "    :param image: 二值化处理后的图片文件\n",
    "    :return: 识别结果\n",
    "    \"\"\"\n",
    "    result = tesserocr.image_to_text(image)\n",
    "    return result\n"
   ]
  },
  {
   "cell_type": "code",
   "execution_count": null,
   "metadata": {},
   "outputs": [],
   "source": [
    "class captcha(Dataset):\n",
    "    def __init__(self, x, y, transform=None):\n",
    "        super().__init__()\n",
    "        self.x = x\n",
    "        self.y = y\n",
    "        self.transform = transform\n",
    "        \n",
    "    def __len__(self):\n",
    "        return len(self.x)\n",
    "    \n",
    "    def __getitem__(self, n):\n",
    "        return self.x[n], self.y[n]"
   ]
  },
  {
   "cell_type": "code",
   "execution_count": null,
   "metadata": {},
   "outputs": [],
   "source": [
    "from torchvision import transforms\n",
    "\n",
    "trans = transforms.Compose(transforms = [\n",
    "    transforms.ToTensor()\n",
    "])"
   ]
  },
  {
   "cell_type": "code",
   "execution_count": null,
   "metadata": {},
   "outputs": [],
   "source": []
  }
 ],
 "metadata": {
  "kernelspec": {
   "display_name": "Python 3",
   "language": "python",
   "name": "python3"
  },
  "language_info": {
   "codemirror_mode": {
    "name": "ipython",
    "version": 3
   },
   "file_extension": ".py",
   "mimetype": "text/x-python",
   "name": "python",
   "nbconvert_exporter": "python",
   "pygments_lexer": "ipython3",
   "version": "3.7.0"
  }
 },
 "nbformat": 4,
 "nbformat_minor": 2
}
